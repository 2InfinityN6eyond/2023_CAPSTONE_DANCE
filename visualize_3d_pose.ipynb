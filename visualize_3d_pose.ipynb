{
 "cells": [
  {
   "cell_type": "code",
   "execution_count": 5,
   "metadata": {},
   "outputs": [
    {
     "name": "stderr",
     "output_type": "stream",
     "text": [
      "objc[2842]: Class CaptureDelegate is implemented in both /opt/anaconda3/envs/first/lib/python3.10/site-packages/cv2/cv2.abi3.so (0x178fe65a0) and /opt/anaconda3/envs/first/lib/python3.10/site-packages/mediapipe/.dylibs/libopencv_videoio.3.4.16.dylib (0x12c524860). One of the two will be used. Which one is undefined.\n",
      "objc[2842]: Class CVWindow is implemented in both /opt/anaconda3/envs/first/lib/python3.10/site-packages/cv2/cv2.abi3.so (0x178fe65f0) and /opt/anaconda3/envs/first/lib/python3.10/site-packages/mediapipe/.dylibs/libopencv_highgui.3.4.16.dylib (0x11e8a4a68). One of the two will be used. Which one is undefined.\n",
      "objc[2842]: Class CVView is implemented in both /opt/anaconda3/envs/first/lib/python3.10/site-packages/cv2/cv2.abi3.so (0x178fe6618) and /opt/anaconda3/envs/first/lib/python3.10/site-packages/mediapipe/.dylibs/libopencv_highgui.3.4.16.dylib (0x11e8a4a90). One of the two will be used. Which one is undefined.\n",
      "objc[2842]: Class CVSlider is implemented in both /opt/anaconda3/envs/first/lib/python3.10/site-packages/cv2/cv2.abi3.so (0x178fe6640) and /opt/anaconda3/envs/first/lib/python3.10/site-packages/mediapipe/.dylibs/libopencv_highgui.3.4.16.dylib (0x11e8a4ab8). One of the two will be used. Which one is undefined.\n"
     ]
    }
   ],
   "source": [
    "import numpy as np\n",
    "import cv2\n",
    "import mediapipe as mp\n",
    "import matplotlib.pyplot as plt\n",
    "\n",
    "mp_drawing = mp.solutions.drawing_utils\n",
    "mp_drawing_styles = mp.solutions.drawing_styles\n",
    "mp_holistic = mp.solutions.holistic"
   ]
  },
  {
   "cell_type": "code",
   "execution_count": 65,
   "metadata": {},
   "outputs": [],
   "source": [
    "cap = cv2.VideoCapture(0)\n",
    "with mp_holistic.Holistic(\n",
    "    model_complexity = 2,\n",
    "    min_detection_confidence=0.3,\n",
    "    min_tracking_confidence=0.3\n",
    ") as holistic:\n",
    "    for i in range(20) :\n",
    "        success, image = cap.read()\n",
    "        if not success:\n",
    "            continue\n",
    "\n",
    "        results = holistic.process(cv2.cvtColor(image, cv2.COLOR_BGR2RGB))\n",
    "\n",
    "        vis_image = image.copy()\n",
    "        mp_drawing.draw_landmarks(\n",
    "            vis_image,\n",
    "            results.face_landmarks,\n",
    "            mp_holistic.FACEMESH_CONTOURS,\n",
    "            landmark_drawing_spec=None,\n",
    "            connection_drawing_spec=mp_drawing_styles\n",
    "            .get_default_face_mesh_contours_style()\n",
    "        )\n",
    "        mp_drawing.draw_landmarks(\n",
    "            vis_image,\n",
    "            results.pose_landmarks,\n",
    "            mp_holistic.POSE_CONNECTIONS,\n",
    "            landmark_drawing_spec=mp_drawing_styles\n",
    "            .get_default_pose_landmarks_style()\n",
    "        )\n",
    "    cap.release()"
   ]
  },
  {
   "cell_type": "code",
   "execution_count": 69,
   "metadata": {},
   "outputs": [
    {
     "data": {
      "text/plain": [
       "mediapipe.python.solution_base.SolutionOutputs"
      ]
     },
     "execution_count": 69,
     "metadata": {},
     "output_type": "execute_result"
    }
   ],
   "source": [
    "results"
   ]
  },
  {
   "cell_type": "code",
   "execution_count": 66,
   "metadata": {},
   "outputs": [],
   "source": [
    "landmark_dict = {}\n",
    "if results.left_hand_landmarks :\n",
    "    left_hand_landmark_list = list(map(\n",
    "        lambda kp : [kp.x, kp.y, kp.z],\n",
    "        results.left_hand_landmarks.landmark\n",
    "    )) \n",
    "    landmark_dict[\"left_hand\"] = left_hand_landmark_list, \n",
    "if results.right_hand_landmarks :\n",
    "    right_hand_landmark_list = list(map(\n",
    "        lambda kp : [kp.x, kp.y, kp.z],\n",
    "        results.right_hand_landmarks.landmark\n",
    "    ))\n",
    "    landmark_dict[\"right_hand\"] = right_hand_landmark_list,\n",
    "\n",
    "if results.pose_landmarks :\n",
    "    pose_landmark_list = list(map(\n",
    "        lambda kp : [kp.x, kp.y, kp.z],\n",
    "        results.pose_landmarks.landmark\n",
    "    ))\n",
    "    landmark_dict[\"pose\"] = pose_landmark_list,\n",
    "\n",
    "if results.face_landmarks :\n",
    "    face_landmark_list = list(map(\n",
    "        lambda kp : [kp.x, kp.y, kp.z],\n",
    "        results.face_landmarks.landmark\n",
    "    ))\n",
    "    landmark_dict[\"face\"] =  face_landmark_list"
   ]
  },
  {
   "cell_type": "code",
   "execution_count": null,
   "metadata": {},
   "outputs": [],
   "source": []
  },
  {
   "cell_type": "code",
   "execution_count": 41,
   "metadata": {},
   "outputs": [
    {
     "data": {
      "text/plain": [
       "(468, 1)"
      ]
     },
     "execution_count": 41,
     "metadata": {},
     "output_type": "execute_result"
    }
   ],
   "source": [
    "len(landmark_dict[\"face\"]), len(landmark_dict[\"pose\"])"
   ]
  },
  {
   "cell_type": "code",
   "execution_count": 42,
   "metadata": {},
   "outputs": [
    {
     "data": {
      "text/plain": [
       "(33, 468)"
      ]
     },
     "execution_count": 42,
     "metadata": {},
     "output_type": "execute_result"
    }
   ],
   "source": [
    "len(results.pose_landmarks.landmark), len(results.face_landmarks.landmark)"
   ]
  },
  {
   "cell_type": "code",
   "execution_count": 44,
   "metadata": {},
   "outputs": [
    {
     "data": {
      "text/plain": [
       "[x: 0.4914667\n",
       "y: 0.6921872\n",
       "z: -0.40606043\n",
       "visibility: 0.99989325\n",
       ", x: 0.50448424\n",
       "y: 0.64065987\n",
       "z: -0.349835\n",
       "visibility: 0.9995466\n",
       ", x: 0.515431\n",
       "y: 0.6408026\n",
       "z: -0.35021695\n",
       "visibility: 0.9997309\n",
       ", x: 0.5255075\n",
       "y: 0.6415853\n",
       "z: -0.35009995\n",
       "visibility: 0.999557\n",
       ", x: 0.47055066\n",
       "y: 0.6403155\n",
       "z: -0.3560224\n",
       "visibility: 0.99977285\n",
       ", x: 0.4586357\n",
       "y: 0.64032155\n",
       "z: -0.35647616\n",
       "visibility: 0.9999005\n",
       ", x: 0.44642478\n",
       "y: 0.6409371\n",
       "z: -0.35660687\n",
       "visibility: 0.99982935\n",
       ", x: 0.54123795\n",
       "y: 0.6568882\n",
       "z: -0.06845091\n",
       "visibility: 0.9998895\n",
       ", x: 0.4247092\n",
       "y: 0.6652919\n",
       "z: -0.09120719\n",
       "visibility: 0.9999154\n",
       ", x: 0.5134588\n",
       "y: 0.74360603\n",
       "z: -0.30045992\n",
       "visibility: 0.9997847\n",
       ", x: 0.46944472\n",
       "y: 0.7482284\n",
       "z: -0.31177658\n",
       "visibility: 0.99984264\n",
       ", x: 0.6295596\n",
       "y: 0.95120996\n",
       "z: 0.036123354\n",
       "visibility: 0.9997208\n",
       ", x: 0.34122851\n",
       "y: 0.96956867\n",
       "z: -0.017792877\n",
       "visibility: 0.999722\n",
       ", x: 0.76139045\n",
       "y: 1.19538\n",
       "z: -0.418165\n",
       "visibility: 0.8646859\n",
       ", x: 0.20535031\n",
       "y: 1.2187642\n",
       "z: -0.49486712\n",
       "visibility: 0.51421624\n",
       ", x: 0.6928814\n",
       "y: 0.8049367\n",
       "z: -0.9032079\n",
       "visibility: 0.99233073\n",
       ", x: 0.26544684\n",
       "y: 0.8552151\n",
       "z: -0.96793485\n",
       "visibility: 0.9975654\n",
       ", x: 0.70245683\n",
       "y: 0.67082375\n",
       "z: -0.98546803\n",
       "visibility: 0.99373955\n",
       ", x: 0.25888953\n",
       "y: 0.7247712\n",
       "z: -1.0650368\n",
       "visibility: 0.9975668\n",
       ", x: 0.6614491\n",
       "y: 0.6622932\n",
       "z: -0.94024044\n",
       "visibility: 0.9948105\n",
       ", x: 0.29932848\n",
       "y: 0.69910485\n",
       "z: -1.0051653\n",
       "visibility: 0.99774283\n",
       ", x: 0.6448306\n",
       "y: 0.73449844\n",
       "z: -0.89473724\n",
       "visibility: 0.9932531\n",
       ", x: 0.3114508\n",
       "y: 0.76395917\n",
       "z: -0.9599642\n",
       "visibility: 0.9978226\n",
       ", x: 0.59463817\n",
       "y: 1.6031854\n",
       "z: 0.0355215\n",
       "visibility: 0.004767143\n",
       ", x: 0.38425505\n",
       "y: 1.6108061\n",
       "z: -0.03643065\n",
       "visibility: 0.0048744627\n",
       ", x: 0.60795474\n",
       "y: 2.1823678\n",
       "z: -0.115014695\n",
       "visibility: 4.261798e-05\n",
       ", x: 0.41285902\n",
       "y: 2.1481001\n",
       "z: -0.31756338\n",
       "visibility: 0.00012872719\n",
       ", x: 0.6077915\n",
       "y: 2.6618266\n",
       "z: -0.00033430118\n",
       "visibility: 0.00040630822\n",
       ", x: 0.41763332\n",
       "y: 2.644693\n",
       "z: 0.010806984\n",
       "visibility: 0.00031831846\n",
       ", x: 0.61650383\n",
       "y: 2.7485592\n",
       "z: -0.004267547\n",
       "visibility: 0.0015852987\n",
       ", x: 0.4144999\n",
       "y: 2.7351756\n",
       "z: 0.03708742\n",
       "visibility: 0.0009331746\n",
       ", x: 0.57653373\n",
       "y: 2.7980273\n",
       "z: -0.3048404\n",
       "visibility: 0.0013680889\n",
       ", x: 0.44499767\n",
       "y: 2.775809\n",
       "z: -0.19869179\n",
       "visibility: 0.00043733296\n",
       "]"
      ]
     },
     "execution_count": 44,
     "metadata": {},
     "output_type": "execute_result"
    }
   ],
   "source": [
    "results.pose_landmarks.landmark"
   ]
  },
  {
   "cell_type": "code",
   "execution_count": 48,
   "metadata": {},
   "outputs": [
    {
     "data": {
      "text/plain": [
       "(21, 21, 33, 468)"
      ]
     },
     "execution_count": 48,
     "metadata": {},
     "output_type": "execute_result"
    }
   ],
   "source": [
    "if results.left_hand_landmarks :\n",
    "    left_hand_landmark_list = list(map(\n",
    "        lambda kp : [kp.x, kp.y, kp.z],\n",
    "        results.left_hand_landmarks.landmark\n",
    "    )) \n",
    "\n",
    "if results.right_hand_landmarks :\n",
    "    right_hand_landmark_list = list(map(\n",
    "        lambda kp : [kp.x, kp.y, kp.z],\n",
    "        results.right_hand_landmarks.landmark\n",
    "    ))\n",
    "\n",
    "if results.pose_landmarks :\n",
    "    pose_landmark_list = list(map(\n",
    "        lambda kp : [kp.x, kp.y, kp.z],\n",
    "        results.pose_landmarks.landmark\n",
    "    ))\n",
    "\n",
    "if results.face_landmarks :\n",
    "    face_landmark_list = list(map(\n",
    "        lambda kp : [kp.x, kp.y, kp.z],\n",
    "        results.face_landmarks.landmark\n",
    "    ))\n",
    "len(left_hand_landmark_list), len(right_hand_landmark_list), len(pose_landmark_list), len(face_landmark_list)"
   ]
  },
  {
   "cell_type": "code",
   "execution_count": 50,
   "metadata": {},
   "outputs": [
    {
     "data": {
      "text/plain": [
       "(1, 1, 1, 468)"
      ]
     },
     "execution_count": 50,
     "metadata": {},
     "output_type": "execute_result"
    }
   ],
   "source": [
    "landmark_dict = {}\n",
    "if results.left_hand_landmarks :\n",
    "    left_hand_landmark_list = list(map(\n",
    "        lambda kp : [kp.x, kp.y, kp.z],\n",
    "        results.left_hand_landmarks.landmark\n",
    "    )) \n",
    "    landmark_dict[\"left_hand\"] = left_hand_landmark_list, \n",
    "\n",
    "if results.right_hand_landmarks :\n",
    "    right_hand_landmark_list = list(map(\n",
    "        lambda kp : [kp.x, kp.y, kp.z],\n",
    "        results.right_hand_landmarks.landmark\n",
    "    ))\n",
    "    landmark_dict[\"right_hand\"] = right_hand_landmark_list,\n",
    "\n",
    "if results.pose_landmarks :\n",
    "    pose_landmark_list = list(map(\n",
    "        lambda kp : [kp.x, kp.y, kp.z],\n",
    "        results.pose_landmarks.landmark\n",
    "    ))\n",
    "    landmark_dict[\"pose\"] = pose_landmark_list,\n",
    "\n",
    "if results.face_landmarks :\n",
    "    face_landmark_list = list(map(\n",
    "        lambda kp : [kp.x, kp.y, kp.z],\n",
    "        results.face_landmarks.landmark\n",
    "    ))\n",
    "    landmark_dict[\"face\"] = face_landmark_list\n",
    "\n",
    "len(landmark_dict[\"left_hand\"]), len(landmark_dict[\"right_hand\"]), len(landmark_dict[\"pose\"]), len(landmark_dict[\"face\"])"
   ]
  },
  {
   "cell_type": "code",
   "execution_count": 1,
   "metadata": {},
   "outputs": [
    {
     "name": "stderr",
     "output_type": "stream",
     "text": [
      "<>:7: SyntaxWarning: list indices must be integers or slices, not tuple; perhaps you missed a comma?\n",
      "<>:8: SyntaxWarning: list indices must be integers or slices, not tuple; perhaps you missed a comma?\n",
      "<>:9: SyntaxWarning: list indices must be integers or slices, not tuple; perhaps you missed a comma?\n",
      "<>:10: SyntaxWarning: list indices must be integers or slices, not tuple; perhaps you missed a comma?\n",
      "<>:7: SyntaxWarning: list indices must be integers or slices, not tuple; perhaps you missed a comma?\n",
      "<>:8: SyntaxWarning: list indices must be integers or slices, not tuple; perhaps you missed a comma?\n",
      "<>:9: SyntaxWarning: list indices must be integers or slices, not tuple; perhaps you missed a comma?\n",
      "<>:10: SyntaxWarning: list indices must be integers or slices, not tuple; perhaps you missed a comma?\n",
      "/var/folders/kr/x2pj3kwx2tl018qb_jjdfj6m0000gn/T/ipykernel_2842/137512973.py:7: SyntaxWarning: list indices must be integers or slices, not tuple; perhaps you missed a comma?\n",
      "  [13, 15], [14, 16]\n",
      "/var/folders/kr/x2pj3kwx2tl018qb_jjdfj6m0000gn/T/ipykernel_2842/137512973.py:8: SyntaxWarning: list indices must be integers or slices, not tuple; perhaps you missed a comma?\n",
      "  [15, 17], [16, 18]\n",
      "/var/folders/kr/x2pj3kwx2tl018qb_jjdfj6m0000gn/T/ipykernel_2842/137512973.py:9: SyntaxWarning: list indices must be integers or slices, not tuple; perhaps you missed a comma?\n",
      "  [15, 19], [16, 20]\n",
      "/var/folders/kr/x2pj3kwx2tl018qb_jjdfj6m0000gn/T/ipykernel_2842/137512973.py:10: SyntaxWarning: list indices must be integers or slices, not tuple; perhaps you missed a comma?\n",
      "  [15, 21], [16, 22]\n",
      "/var/folders/kr/x2pj3kwx2tl018qb_jjdfj6m0000gn/T/ipykernel_2842/137512973.py:7: SyntaxWarning: list indices must be integers or slices, not tuple; perhaps you missed a comma?\n",
      "  [13, 15], [14, 16]\n",
      "/var/folders/kr/x2pj3kwx2tl018qb_jjdfj6m0000gn/T/ipykernel_2842/137512973.py:8: SyntaxWarning: list indices must be integers or slices, not tuple; perhaps you missed a comma?\n",
      "  [15, 17], [16, 18]\n",
      "/var/folders/kr/x2pj3kwx2tl018qb_jjdfj6m0000gn/T/ipykernel_2842/137512973.py:9: SyntaxWarning: list indices must be integers or slices, not tuple; perhaps you missed a comma?\n",
      "  [15, 19], [16, 20]\n",
      "/var/folders/kr/x2pj3kwx2tl018qb_jjdfj6m0000gn/T/ipykernel_2842/137512973.py:10: SyntaxWarning: list indices must be integers or slices, not tuple; perhaps you missed a comma?\n",
      "  [15, 21], [16, 22]\n",
      "/var/folders/kr/x2pj3kwx2tl018qb_jjdfj6m0000gn/T/ipykernel_2842/137512973.py:7: SyntaxWarning: list indices must be integers or slices, not tuple; perhaps you missed a comma?\n",
      "  [13, 15], [14, 16]\n",
      "/var/folders/kr/x2pj3kwx2tl018qb_jjdfj6m0000gn/T/ipykernel_2842/137512973.py:8: SyntaxWarning: list indices must be integers or slices, not tuple; perhaps you missed a comma?\n",
      "  [15, 17], [16, 18]\n",
      "/var/folders/kr/x2pj3kwx2tl018qb_jjdfj6m0000gn/T/ipykernel_2842/137512973.py:9: SyntaxWarning: list indices must be integers or slices, not tuple; perhaps you missed a comma?\n",
      "  [15, 19], [16, 20]\n",
      "/var/folders/kr/x2pj3kwx2tl018qb_jjdfj6m0000gn/T/ipykernel_2842/137512973.py:10: SyntaxWarning: list indices must be integers or slices, not tuple; perhaps you missed a comma?\n",
      "  [15, 21], [16, 22]\n",
      "/var/folders/kr/x2pj3kwx2tl018qb_jjdfj6m0000gn/T/ipykernel_2842/137512973.py:7: SyntaxWarning: list indices must be integers or slices, not tuple; perhaps you missed a comma?\n",
      "  [13, 15], [14, 16]\n",
      "/var/folders/kr/x2pj3kwx2tl018qb_jjdfj6m0000gn/T/ipykernel_2842/137512973.py:8: SyntaxWarning: list indices must be integers or slices, not tuple; perhaps you missed a comma?\n",
      "  [15, 17], [16, 18]\n",
      "/var/folders/kr/x2pj3kwx2tl018qb_jjdfj6m0000gn/T/ipykernel_2842/137512973.py:9: SyntaxWarning: list indices must be integers or slices, not tuple; perhaps you missed a comma?\n",
      "  [15, 19], [16, 20]\n",
      "/var/folders/kr/x2pj3kwx2tl018qb_jjdfj6m0000gn/T/ipykernel_2842/137512973.py:10: SyntaxWarning: list indices must be integers or slices, not tuple; perhaps you missed a comma?\n",
      "  [15, 21], [16, 22]\n",
      "/var/folders/kr/x2pj3kwx2tl018qb_jjdfj6m0000gn/T/ipykernel_2842/137512973.py:7: SyntaxWarning: list indices must be integers or slices, not tuple; perhaps you missed a comma?\n",
      "  [13, 15], [14, 16]\n",
      "/var/folders/kr/x2pj3kwx2tl018qb_jjdfj6m0000gn/T/ipykernel_2842/137512973.py:8: SyntaxWarning: list indices must be integers or slices, not tuple; perhaps you missed a comma?\n",
      "  [15, 17], [16, 18]\n",
      "/var/folders/kr/x2pj3kwx2tl018qb_jjdfj6m0000gn/T/ipykernel_2842/137512973.py:9: SyntaxWarning: list indices must be integers or slices, not tuple; perhaps you missed a comma?\n",
      "  [15, 19], [16, 20]\n",
      "/var/folders/kr/x2pj3kwx2tl018qb_jjdfj6m0000gn/T/ipykernel_2842/137512973.py:10: SyntaxWarning: list indices must be integers or slices, not tuple; perhaps you missed a comma?\n",
      "  [15, 21], [16, 22]\n",
      "/var/folders/kr/x2pj3kwx2tl018qb_jjdfj6m0000gn/T/ipykernel_2842/137512973.py:7: SyntaxWarning: list indices must be integers or slices, not tuple; perhaps you missed a comma?\n",
      "  [13, 15], [14, 16]\n",
      "/var/folders/kr/x2pj3kwx2tl018qb_jjdfj6m0000gn/T/ipykernel_2842/137512973.py:8: SyntaxWarning: list indices must be integers or slices, not tuple; perhaps you missed a comma?\n",
      "  [15, 17], [16, 18]\n",
      "/var/folders/kr/x2pj3kwx2tl018qb_jjdfj6m0000gn/T/ipykernel_2842/137512973.py:9: SyntaxWarning: list indices must be integers or slices, not tuple; perhaps you missed a comma?\n",
      "  [15, 19], [16, 20]\n",
      "/var/folders/kr/x2pj3kwx2tl018qb_jjdfj6m0000gn/T/ipykernel_2842/137512973.py:10: SyntaxWarning: list indices must be integers or slices, not tuple; perhaps you missed a comma?\n",
      "  [15, 21], [16, 22]\n"
     ]
    },
    {
     "ename": "TypeError",
     "evalue": "list indices must be integers or slices, not tuple",
     "output_type": "error",
     "traceback": [
      "\u001b[0;31m---------------------------------------------------------------------------\u001b[0m",
      "\u001b[0;31mTypeError\u001b[0m                                 Traceback (most recent call last)",
      "Cell \u001b[0;32mIn[1], line 7\u001b[0m\n\u001b[1;32m      1\u001b[0m pose_connection \u001b[39m=\u001b[39m [\n\u001b[1;32m      2\u001b[0m     [\u001b[39m0\u001b[39m, \u001b[39m1\u001b[39m], [\u001b[39m1\u001b[39m, \u001b[39m2\u001b[39m], [\u001b[39m2\u001b[39m, \u001b[39m3\u001b[39m], [\u001b[39m3\u001b[39m, \u001b[39m7\u001b[39m],\n\u001b[1;32m      3\u001b[0m     [\u001b[39m0\u001b[39m, \u001b[39m4\u001b[39m], [\u001b[39m4\u001b[39m, \u001b[39m5\u001b[39m], [\u001b[39m5\u001b[39m, \u001b[39m6\u001b[39m], [\u001b[39m6\u001b[39m, \u001b[39m8\u001b[39m],\n\u001b[1;32m      4\u001b[0m     [\u001b[39m9\u001b[39m, \u001b[39m10\u001b[39m],\n\u001b[1;32m      5\u001b[0m \n\u001b[1;32m      6\u001b[0m     [\u001b[39m11\u001b[39m, \u001b[39m13\u001b[39m], [\u001b[39m12\u001b[39m, \u001b[39m14\u001b[39m],\n\u001b[0;32m----> 7\u001b[0m     [\u001b[39m13\u001b[39m, \u001b[39m15\u001b[39m], [\u001b[39m14\u001b[39;49m, \u001b[39m16\u001b[39;49m]\n\u001b[1;32m      8\u001b[0m     [\u001b[39m15\u001b[39;49m, \u001b[39m17\u001b[39;49m], [\u001b[39m16\u001b[39m, \u001b[39m18\u001b[39m]\n\u001b[1;32m      9\u001b[0m     [\u001b[39m15\u001b[39m, \u001b[39m19\u001b[39m], [\u001b[39m16\u001b[39m, \u001b[39m20\u001b[39m]\n\u001b[1;32m     10\u001b[0m     [\u001b[39m15\u001b[39m, \u001b[39m21\u001b[39m], [\u001b[39m16\u001b[39m, \u001b[39m22\u001b[39m]\n\u001b[1;32m     11\u001b[0m     [\u001b[39m17\u001b[39m, \u001b[39m19\u001b[39m], [\u001b[39m18\u001b[39m, \u001b[39m20\u001b[39m],\n\u001b[1;32m     12\u001b[0m \n\u001b[1;32m     13\u001b[0m     [\u001b[39m11\u001b[39m, \u001b[39m23\u001b[39m], [\u001b[39m12\u001b[39m, \u001b[39m24\u001b[39m],\n\u001b[1;32m     14\u001b[0m     [\u001b[39m23\u001b[39m, \u001b[39m25\u001b[39m], [\u001b[39m24\u001b[39m, \u001b[39m26\u001b[39m],\n\u001b[1;32m     15\u001b[0m     [\u001b[39m25\u001b[39m, \u001b[39m27\u001b[39m], [\u001b[39m26\u001b[39m, \u001b[39m28\u001b[39m],\n\u001b[1;32m     16\u001b[0m     [\u001b[39m27\u001b[39m, \u001b[39m29\u001b[39m], [\u001b[39m28\u001b[39m, \u001b[39m30\u001b[39m],\n\u001b[1;32m     17\u001b[0m     [\u001b[39m27\u001b[39m, \u001b[39m31\u001b[39m], [\u001b[39m28\u001b[39m, \u001b[39m32\u001b[39m],\n\u001b[1;32m     18\u001b[0m     [\u001b[39m29\u001b[39m, \u001b[39m31\u001b[39m], [\u001b[39m30\u001b[39m, \u001b[39m32\u001b[39m],\n\u001b[1;32m     19\u001b[0m \n\u001b[1;32m     20\u001b[0m     [\u001b[39m11\u001b[39m, \u001b[39m12\u001b[39m],\n\u001b[1;32m     21\u001b[0m     [\u001b[39m23\u001b[39m, \u001b[39m24\u001b[39m]\n\u001b[1;32m     22\u001b[0m ]\n",
      "\u001b[0;31mTypeError\u001b[0m: list indices must be integers or slices, not tuple"
     ]
    }
   ],
   "source": [
    "pose_connection = [\n",
    "    [0, 1], [1, 2], [2, 3], [3, 7],\n",
    "    [0, 4], [4, 5], [5, 6], [6, 8],\n",
    "    [9, 10],\n",
    "\n",
    "    [11, 13], [12, 14],\n",
    "    [13, 15], [14, 16]\n",
    "    [15, 17], [16, 18]\n",
    "    [15, 19], [16, 20]\n",
    "    [15, 21], [16, 22]\n",
    "    [17, 19], [18, 20],\n",
    "\n",
    "    [11, 23], [12, 24],\n",
    "    [23, 25], [24, 26],\n",
    "    [25, 27], [26, 28],\n",
    "    [27, 29], [28, 30],\n",
    "    [27, 31], [28, 32],\n",
    "    [29, 31], [30, 32],\n",
    "\n",
    "    [11, 12],\n",
    "    [23, 24]\n",
    "]"
   ]
  },
  {
   "cell_type": "code",
   "execution_count": 3,
   "metadata": {},
   "outputs": [],
   "source": [
    "HAND_CONNECTIONS = [\n",
    "    (0, 1), (1, 2), (2, 3), (3, 4),\n",
    "    (5, 6), (6, 7), (7, 8),\n",
    "    (9, 10), (10, 11), (11, 12),\n",
    "    (13, 14), (14, 15), (15, 16),\n",
    "    (17, 18), (18, 19), (19, 20),\n",
    "    (0, 5), (5, 9), (9, 13), (13, 17), (0, 17)\n",
    "]\n",
    "\n",
    "POSE_CONNECTIONS = [\n",
    "    (0,1), (1,2), (2,3), (3,7),\n",
    "    (0,4), (4,5), (5,6), (6,8),\n",
    "    (9,10),\n",
    "    (11,13), (13,15), (15,17), (17,19), (19,15), (15,21),\n",
    "    (12,14), (14,16), (16,18), (18,20), (20,16), (16,22),\n",
    "    (11,12), (12,24), (24,23), (23,11)\n",
    "]\n",
    "\n",
    "FACE_CONNECTIONS = [\n",
    "    # Lips.\n",
    "    (61, 146), (146, 91), (91, 181), (181, 84), (84, 17),\n",
    "    (17, 314), (314, 405), (405, 321), (321, 375), (375, 291),\n",
    "    (61, 185), (185, 40), (40, 39), (39, 37), (37, 0),\n",
    "    (0, 267), (267, 269), (269, 270), (270, 409), (409, 291),\n",
    "    (78, 95), (95, 88), (88, 178), (178, 87), (87, 14),\n",
    "    (14, 317), (317, 402), (402, 318), (318, 324), (324, 308),\n",
    "    (78, 191), (191, 80), (80, 81), (81, 82), (82, 13),\n",
    "    (13, 312), (312, 311), (311, 310), (310, 415), (415, 308),\n",
    "    # Left eye.\n",
    "    (263, 249), (249, 390), (390, 373), (373, 374), (374, 380),\n",
    "    (380, 381), (381, 382), (382, 362), (263, 466), (466, 388),\n",
    "    (388, 387), (387, 386), (386, 385), (385, 384), (384, 398),\n",
    "    (398, 362),\n",
    "    # Left eyebrow.\n",
    "    (276, 283), (283, 282), (282, 295), (295, 285), (300, 293),\n",
    "    (293, 334), (334, 296), (296, 336),\n",
    "    # Right eye.\n",
    "    (33, 7), (7, 163), (163, 144), (144, 145), (145, 153),\n",
    "    (153, 154), (154, 155), (155, 133), (33, 246), (246, 161),\n",
    "    (161, 160), (160, 159), (159, 158), (158, 157), (157, 173),\n",
    "    (173, 133),\n",
    "    # Right eyebrow.\n",
    "    (46, 53), (53, 52), (52, 65), (65, 55), (70, 63), (63, 105),\n",
    "    (105, 66), (66, 107),\n",
    "    # Face oval.\n",
    "    (10, 338), (338, 297), (297, 332), (332, 284), (284, 251),\n",
    "    (251, 389), (389, 356), (356, 454), (454, 323), (323, 361),\n",
    "    (361, 288), (288, 397), (397, 365), (365, 379), (379, 378),\n",
    "    (378, 400), (400, 377), (377, 152), (152, 148), (148, 176),\n",
    "    (176, 149), (149, 150), (150, 136), (136, 172), (172, 58),\n",
    "    (58, 132), (132, 93), (93, 234), (234, 127), (127, 162),\n",
    "    (162, 21), (21, 54), (54, 103), (103, 67), (67, 109),\n",
    "    (109, 10)\n",
    "]\n"
   ]
  },
  {
   "cell_type": "code",
   "execution_count": 8,
   "metadata": {},
   "outputs": [
    {
     "data": {
      "text/plain": [
       "(array([[ 0,  1,  2],\n",
       "        [ 3,  4,  5],\n",
       "        [ 6,  7,  8],\n",
       "        [ 9, 10, 11],\n",
       "        [12, 13, 14],\n",
       "        [15, 16, 17],\n",
       "        [18, 19, 20],\n",
       "        [21, 22, 23],\n",
       "        [24, 25, 26],\n",
       "        [27, 28, 29]]),\n",
       " array([[ 9, 10, 11],\n",
       "        [ 3,  4,  5],\n",
       "        [ 6,  7,  8],\n",
       "        [ 3,  4,  5]]))"
      ]
     },
     "execution_count": 8,
     "metadata": {},
     "output_type": "execute_result"
    }
   ],
   "source": [
    "arr = np.arange(30).reshape(-1, 3)\n",
    "arr, arr[[3, 1, 2, 1]]"
   ]
  },
  {
   "cell_type": "code",
   "execution_count": 60,
   "metadata": {},
   "outputs": [
    {
     "data": {
      "text/plain": [
       "[[None, None],\n",
       " [None, None],\n",
       " [None, None],\n",
       " [None, None],\n",
       " [None, None],\n",
       " [None, None],\n",
       " [None, None],\n",
       " [None, None],\n",
       " [None, None],\n",
       " [None, None],\n",
       " [None, None],\n",
       " [None, None],\n",
       " [None, None],\n",
       " [None, None],\n",
       " [None, None],\n",
       " [None, None],\n",
       " [None, None],\n",
       " [None, None],\n",
       " [None, None],\n",
       " [None, None],\n",
       " [None, None]]"
      ]
     },
     "execution_count": 60,
     "metadata": {},
     "output_type": "execute_result"
    }
   ],
   "source": [
    "HAND_CHAIN"
   ]
  },
  {
   "cell_type": "code",
   "execution_count": 55,
   "metadata": {},
   "outputs": [
    {
     "data": {
      "text/plain": [
       "[[9, 13]]"
      ]
     },
     "execution_count": 55,
     "metadata": {},
     "output_type": "execute_result"
    }
   ],
   "source": [
    "HAND_CHAIN"
   ]
  },
  {
   "cell_type": "code",
   "execution_count": 14,
   "metadata": {},
   "outputs": [
    {
     "data": {
      "text/plain": [
       "468"
      ]
     },
     "execution_count": 14,
     "metadata": {},
     "output_type": "execute_result"
    }
   ],
   "source": [
    "len(results.face_landmarks.landmark)"
   ]
  },
  {
   "cell_type": "code",
   "execution_count": 16,
   "metadata": {},
   "outputs": [
    {
     "data": {
      "text/plain": [
       "1"
      ]
     },
     "execution_count": 16,
     "metadata": {},
     "output_type": "execute_result"
    }
   ],
   "source": [
    "results.pose_landmarks.LANDMARK_FIELD_NUMBER"
   ]
  },
  {
   "cell_type": "code",
   "execution_count": 22,
   "metadata": {},
   "outputs": [
    {
     "ename": "AttributeError",
     "evalue": "'NormalizedLandmarkList' object has no attribute 'landmars'",
     "output_type": "error",
     "traceback": [
      "\u001b[0;31m---------------------------------------------------------------------------\u001b[0m",
      "\u001b[0;31mAttributeError\u001b[0m                            Traceback (most recent call last)",
      "Cell \u001b[0;32mIn[22], line 1\u001b[0m\n\u001b[0;32m----> 1\u001b[0m results\u001b[39m.\u001b[39;49mleft_hand_landmarks\u001b[39m.\u001b[39;49mlandmars\n",
      "\u001b[0;31mAttributeError\u001b[0m: 'NormalizedLandmarkList' object has no attribute 'landmars'"
     ]
    }
   ],
   "source": [
    "results.left_hand_landmarks.landmars"
   ]
  }
 ],
 "metadata": {
  "kernelspec": {
   "display_name": "first",
   "language": "python",
   "name": "python3"
  },
  "language_info": {
   "codemirror_mode": {
    "name": "ipython",
    "version": 3
   },
   "file_extension": ".py",
   "mimetype": "text/x-python",
   "name": "python",
   "nbconvert_exporter": "python",
   "pygments_lexer": "ipython3",
   "version": "3.10.9"
  },
  "orig_nbformat": 4
 },
 "nbformat": 4,
 "nbformat_minor": 2
}
